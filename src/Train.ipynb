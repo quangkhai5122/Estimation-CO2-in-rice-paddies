{
 "cells": [
  {
   "cell_type": "code",
   "execution_count": null,
   "id": "fe8f5dc3",
   "metadata": {},
   "outputs": [],
   "source": [
    "import numpy as np\n",
    "import matplotlib.pyplot as plt\n",
    "import pandas as pd\n",
    "import seaborn as sns\n",
    "import pandas as pd\n",
    "from sklearn.model_selection import train_test_split, GridSearchCV\n",
    "from sklearn.ensemble import RandomForestRegressor\n",
    "import xgboost as xgb\n",
    "from sklearn.metrics import mean_squared_error, r2_score\n",
    "import numpy as np\n",
    "import lightgbm as lgb\n",
    "from tqdm.notebook import tqdm\n",
    "from sklearn.model_selection import ParameterGrid\n",
    "from xgboost import XGBRegressor"
   ]
  },
  {
   "cell_type": "code",
   "execution_count": null,
   "metadata": {},
   "outputs": [],
   "source": [
    "df = pd.read_csv('D:\\\\NCKH - Estimation GHG\\\\Output\\\\2020\\\\data_co2_modis.csv')\n",
    "df.info()"
   ]
  },
  {
   "cell_type": "code",
   "execution_count": null,
   "id": "5eed4363",
   "metadata": {},
   "outputs": [],
   "source": [
    "df.describe()"
   ]
  },
  {
   "cell_type": "code",
   "execution_count": null,
   "metadata": {},
   "outputs": [],
   "source": [
    "df_drop = df.drop(columns=['LST_Night_Terra_C', 'LST_Night_Aqua_C'])\n",
    "df_dropna = df_drop.dropna()\n",
    "df_dropna.describe()"
   ]
  },
  {
   "cell_type": "code",
   "execution_count": null,
   "metadata": {},
   "outputs": [],
   "source": [
    "feature_columns = df_dropna.columns[df_dropna.columns.get_loc('precipitation'):].tolist()\n",
    "target = ['xco2']"
   ]
  },
  {
   "cell_type": "code",
   "execution_count": null,
   "metadata": {},
   "outputs": [],
   "source": [
    "df_selected = df_dropna[feature_columns + target]\n",
    "correlation_with_target = df_selected.corr()['xco2'].drop('xco2')\n",
    "print(correlation_with_target)"
   ]
  },
  {
   "cell_type": "code",
   "execution_count": null,
   "metadata": {},
   "outputs": [],
   "source": [
    "from sklearn.model_selection import train_test_split\n",
    "\n",
    "X = df_selected[feature_columns]\n",
    "y = df_selected['xco2']\n",
    "X_train, X_test, y_train, y_test = train_test_split(X, y, test_size=0.2, random_state=42)\n",
    "print(f\"Kích thước tập huấn luyện: {X_train.shape}, {y_train.shape}\")\n",
    "print(f\"Kích thước tập kiểm tra: {X_test.shape}, {y_test.shape}\")"
   ]
  },
  {
   "cell_type": "code",
   "execution_count": null,
   "id": "2c831bdf",
   "metadata": {},
   "outputs": [],
   "source": [
    "param_grid_rf = {\n",
    "    'n_estimators': [250, 300, 350, 400],      \n",
    "    'max_features': ['sqrt', 'log2', 0.7], \n",
    "    'max_depth': [None, 10, 20, 30],       \n",
    "    'min_samples_split': [2, 5, 10],      \n",
    "    'min_samples_leaf': [1, 2, 4],         \n",
    "    'bootstrap': [True]                    \n",
    "}\n",
    "\n",
    "rf = RandomForestRegressor(random_state=42, n_jobs=-1) \n",
    "\n",
    "grid_search_rf = GridSearchCV(estimator=rf, param_grid=param_grid_rf,\n",
    "                              cv=5, \n",
    "                              # scoring='neg_mean_squared_error', \n",
    "                              scoring='r2',\n",
    "                              verbose=2, \n",
    "                              n_jobs=-1) \n",
    "\n",
    "grid_search_rf.fit(X_train, y_train)\n",
    "\n",
    "print(\"\\nCác siêu tham số tốt nhất cho Random Forest:\")\n",
    "print(grid_search_rf.best_params_)\n",
    "\n",
    "best_rf = grid_search_rf.best_estimator_\n",
    "y_pred_rf = best_rf.predict(X_test)\n",
    "\n",
    "mse_rf = mean_squared_error(y_test, y_pred_rf)\n",
    "r2_rf = r2_score(y_test, y_pred_rf)\n",
    "print(f\"\\nĐánh giá Random Forest trên tập kiểm tra:\")\n",
    "print(f\"  Mean Squared Error (MSE): {mse_rf:.4f}\")\n",
    "print(f\"  R-squared (R2): {r2_rf:.4f}\")"
   ]
  },
  {
   "cell_type": "code",
   "execution_count": null,
   "id": "f5eeb956",
   "metadata": {},
   "outputs": [],
   "source": [
    "param_grid_xgb = {\n",
    "    'n_estimators': [250, 300, 350, 400],\n",
    "    'learning_rate': [0.01, 0.05, 0.1, 0.2],\n",
    "    'max_depth': [3, 5, 7, 9],\n",
    "    'subsample': [0.7, 0.8, 0.9, 1.0],          \n",
    "    'colsample_bytree': [0.7, 0.8, 0.9, 1.0],   \n",
    "    'gamma': [0, 0.1, 0.2],                     \n",
    "    'reg_alpha': [0, 0.001, 0.01],            # L1 regularization \n",
    "    # 'reg_lambda': [1, 0.1, 0.01],           # L2 regularization \n",
    "    'tree_method': ['hist'],\n",
    "    'device': ['cuda']\n",
    "}\n",
    "\n",
    "grid = list(ParameterGrid(param_grid_xgb))\n",
    "best_score = -float('inf')\n",
    "best_model = None\n",
    "best_params = None\n",
    "\n",
    "for params in tqdm(grid, desc=\"Tuning models\"):\n",
    "    model = XGBRegressor(\n",
    "        objective='reg:squarederror',\n",
    "        random_state=42,\n",
    "        n_jobs=-1,\n",
    "        **params\n",
    "    )\n",
    "    model.fit(X_train, y_train)\n",
    "    score = model.score(X_test, y_test) \n",
    "    if score > best_score:\n",
    "        best_score = score\n",
    "        best_model = model\n",
    "        best_params = params\n",
    "\n",
    "print(\"\\nCác siêu tham số tốt nhất cho XGBoost:\")\n",
    "print(best_params)\n",
    "\n",
    "y_pred = best_model.predict(X_test)\n",
    "mse_xg = mean_squared_error(y_test, y_pred)\n",
    "r2_xg = r2_score(y_test, y_pred)\n",
    "\n",
    "print(\"\\nĐánh giá mô hình XGBoost trên tập kiểm tra:\")\n",
    "print(f\"  Mean Squared Error (MSE): {mse_xg:.4f}\")\n",
    "print(f\"  R-squared (R2): {r2_xg:.4f}\")"
   ]
  }
 ],
 "metadata": {
  "language_info": {
   "name": "python"
  }
 },
 "nbformat": 4,
 "nbformat_minor": 5
}
